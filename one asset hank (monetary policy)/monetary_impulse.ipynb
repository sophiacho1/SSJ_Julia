{
 "cells": [
  {
   "cell_type": "markdown",
   "metadata": {},
   "source": [
    "# Monetary Policy Impulse Notebook"
   ]
  },
  {
   "cell_type": "markdown",
   "metadata": {},
   "source": [
    "## Copying the necessary stuff"
   ]
  },
  {
   "cell_type": "code",
   "execution_count": 1,
   "metadata": {},
   "outputs": [],
   "source": [
    "using PyPlot"
   ]
  },
  {
   "cell_type": "code",
   "execution_count": 2,
   "metadata": {},
   "outputs": [
    {
     "data": {
      "text/plain": [
       "construct (generic function with 1 method)"
      ]
     },
     "execution_count": 2,
     "metadata": {},
     "output_type": "execute_result"
    }
   ],
   "source": [
    "include(\"het.jl\")\n",
    "include(\"graph.jl\")"
   ]
  },
  {
   "cell_type": "code",
   "execution_count": 3,
   "metadata": {},
   "outputs": [
    {
     "data": {
      "text/plain": [
       "(Dict{Any, Any}(\"A\" => -6.040038796895075e-8, \"C\" => 1.0, \"goods_mkt\" => 0.0, \"asset_mkt\" => -6.040038796895075e-8), Dict{String, Any}(\"a_pi\" => [-0.0 -0.0 … 0.7567703492014544 0.743120564812012; -0.0 -0.0 … 0.7596095391400127 0.7458061624224225; … ; 0.790933351042569 0.6904803023922038 … 0.7341344086095789 0.7220834922221065; 0.27219868370996797 0.22709376210124066 … 0.6758160845412213 0.6672915733235784], \"c\" => [0.025912965893351347 0.03294744326940646 … 95.1223591021319 100.36540215978164; 0.05426129376076938 0.061295771136824495 … 95.2843051196495 100.5280529119135; … ; 4.086460970109042 4.08762082767756 … 100.7749098666992 106.03105375512257; 6.415832359235931 6.416887836734923 … 103.36177977210912 108.62202844365413], \"C\" => 1.0, \"a_i\" => [0 0 … 297 298; 0 0 … 297 298; … ; 121 121 … 297 298; 154 154 … 297 298], \"a_grid\" => [-1.0, -0.9930351709147969, -0.9859729853049404, -0.9788117361195421, -0.9715496802807764, -0.9641850378028347, -0.9567159908865523, -0.949140682988963, -0.9414572178670118, -0.9336636585946245  …  619.6520021782394, 652.5619794604465, 687.4610072835962, 724.4826017982706, 763.770069583915, 805.4772829703207, 849.7695211082224, 896.8243827206192, 946.8327770324933, 999.9999999999999], \"r\" => 0.01, \"a\" => [-1.0 -1.0 … 861.2146586665796 909.6705108061116; -1.0 -1.0 … 861.0810609769294 909.5362083818471; … ; 1.6571338123687276 1.6630084321762655 … 862.2797897185967 910.7225410273551; 4.658792997155191 4.664771997032253 … 865.0239503871002 913.4625969127369], \"e_grid\" => [0.035912965893351405, 0.06426129376076943, 0.11498671226629056, 0.20575284473781472, 0.36816630620470375, 0.6587827701587253, 1.1788008053531622, 2.1093012775159035, 3.774303393012424, 6.753594782477769, 12.084625356391122], \"eis\" => 0.5, \"z\" => [0.035912965893351405, 0.06426129376076943, 0.11498671226629056, 0.20575284473781472, 0.36816630620470375, 0.6587827701587253, 1.1788008053531622, 2.1093012775159035, 3.774303393012424, 6.753594782477769, 12.084625356391122]…))"
      ]
     },
     "execution_count": 3,
     "metadata": {},
     "output_type": "execute_result"
    }
   ],
   "source": [
    "\n",
    "# NOTE: Z is technically Y\n",
    "\n",
    "\"\"\" I. Specifies the ins and outs of each block in the DAG\"\"\"\n",
    "\n",
    "ins_outs = [\n",
    "    Dict(\"ins\" => [\"r_ante\"], \"outs\" => [\"r\"]), # no-val block\n",
    "    Dict(\"ins\" => [\"r\", \"Z\"], \"outs\" => [\"C\", \"A\"]), # ha block\n",
    "    Dict(\"ins\" => [\"A\", \"C\", \"Z\"], \"outs\" => [\"asset_mkt\", \"goods_mkt\"]), # goods market clearing block\n",
    "]\n",
    "\n",
    "\"\"\" II. Defining the no-val block \"\"\"\n",
    "\n",
    "dict_in_ex_post_rate = Dict{Any, Any}(\n",
    "    \"r_ante\" => 0.01,\n",
    ")\n",
    "dict_out_ex_post_rate = Dict{Any, Any}(\n",
    "    \"r\" => nothing\n",
    ")\n",
    "\n",
    "function f_ex_post_rate(block::Block)\n",
    "    r_ante = block.ins[\"r_ante\"]\n",
    "    r = r_ante\n",
    "    block.outs[\"r\"] = r\n",
    "end\n",
    "\n",
    "# ex_post_rate_block = Block(dict_in_ex_post_rate, dict_out_ex_post_rate, f_ex_post_rate, ins_outs, \"No-Val\")\n",
    "\n",
    "\"\"\" III. Defining the ha block \"\"\"\n",
    "\n",
    "hh_block = HH_Block(Dict{Any, Any}(\"r\" => nothing, \"Z\" => 1.0), Dict{Any, Any}(\"C\" => nothing), \"HA\", []) # Defining a placeholder for the heterogeneous agent block\n",
    "\n",
    "\"\"\" IV. Defining the goods market clearing block \"\"\"\n",
    "\n",
    "dict_in_mkt_clearing_simple = Dict{Any, Any}(\n",
    "    \"A\" => nothing,\n",
    "    \"C\" => nothing,\n",
    "    \"Z\" => 1.0\n",
    ")\n",
    "dict_out_mkt_clearing_simple = Dict{Any, Any}(\n",
    "    \"asset_mkt\" => nothing,\n",
    "    \"goods_mkt\" => nothing\n",
    ")\n",
    "\n",
    "function f_mkt_clearing_simple(block::Block)\n",
    "    A, C, Z = block.ins[\"A\"], block.ins[\"C\"], block.ins[\"Z\"]\n",
    "    asset_mkt = A\n",
    "    goods_mkt = C - Z\n",
    "    block.outs[\"asset_mkt\"] = asset_mkt\n",
    "    block.outs[\"goods_mkt\"] = goods_mkt\n",
    "end\n",
    "\n",
    "mkt_clearing_simple_block = Block(dict_in_mkt_clearing_simple, dict_out_mkt_clearing_simple, f_mkt_clearing_simple, ins_outs, \"Clearing\")\n",
    "\n",
    "\"\"\" V. Creating the DAG \"\"\"\n",
    "\n",
    "mon_DAG =  DAG_Rep([hh_block, mkt_clearing_simple_block])\n",
    "\n",
    "calibration = Dict(\"eis\" => 0.5,     # EIS\n",
    "                   \"rho_e\" => 0.92,  # Persistence of idiosyncratic productivity shocks\n",
    "                   \"sd_e\" => 0.92,   # Standard deviation of idiosyncratic productivity shocks\n",
    "                   \"Z\" => 1.0,       # Output\n",
    "                   \"r_ante\" => 0.01, # target real interest rate\n",
    "                   \"min_a\" => -1.0,  # Minimum asset level on the grid\n",
    "                   \"max_a\" => 1_000, # Maximum asset level on the grid\n",
    "                   \"n_a\" => 300,     # Number of asset grid points\n",
    "                   \"n_e\" => 11,      # Number of productivity grid points\n",
    "                   \"beta\" => 0.85)     \n",
    "\n",
    "inputs_to_hh = Dict(\"eis\" => calibration[\"eis\"], \n",
    "                    \"rho_e\" => calibration[\"rho_e\"],\n",
    "                    \"sd_e\" => calibration[\"sd_e\"],\n",
    "                    \"r\" => calibration[\"r_ante\"],\n",
    "                    \"min_a\" => calibration[\"min_a\"],\n",
    "                    \"max_a\" => calibration[\"max_a\"],\n",
    "                    \"n_a\" => calibration[\"n_a\"],\n",
    "                    \"n_e\" => calibration[\"n_e\"],\n",
    "                    \"beta\" => calibration[\"beta\"])\n",
    "\n",
    "ss_vals, hh_ss_all_vals = DAG_get_ss(mon_DAG, \"None\", inputs_to_hh, \"mon_beta\")"
   ]
  },
  {
   "cell_type": "code",
   "execution_count": 4,
   "metadata": {},
   "outputs": [
    {
     "data": {
      "text/plain": [
       "Dict{String, Dict{Any, Any}} with 2 entries:\n",
       "  \"A\" => Dict(\"r\"=>[0.198834 0.455518 … -1.72487e-12 -1.72583e-12; 0.229244 0.5…\n",
       "  \"C\" => Dict(\"r\"=>[-0.198834 -0.455518 … 1.71158e-12 1.71253e-12; -0.0284221 -…"
      ]
     },
     "execution_count": 4,
     "metadata": {},
     "output_type": "execute_result"
    }
   ],
   "source": [
    "# Getting the HA Jacobians \n",
    "end_T = 300\n",
    "het_Js = ha_jacobian(hh_ss_all_vals, Dict(\"r\" => Dict(\"r\" => 1), \"z\" => Dict(\"z\" => 1)), 1.0, 0.01, end_T)"
   ]
  },
  {
   "cell_type": "markdown",
   "metadata": {},
   "source": [
    "## Checking Convergence of Jacobians (Only need consumption jacobians)"
   ]
  },
  {
   "cell_type": "code",
   "execution_count": 5,
   "metadata": {},
   "outputs": [
    {
     "data": {
      "text/plain": [
       "299-element Vector{Float64}:\n",
       " -0.01\n",
       " -0.006999999999999999\n",
       " -0.0049\n",
       " -0.003429999999999999\n",
       " -0.0024009999999999995\n",
       " -0.0016806999999999994\n",
       " -0.0011764899999999997\n",
       " -0.0008235429999999996\n",
       " -0.0005764800999999997\n",
       " -0.0004035360699999998\n",
       " -0.0002824752489999998\n",
       " -0.0001977326742999999\n",
       " -0.0001384128720099999\n",
       "  ⋮\n",
       " -3.492508599128362e-47\n",
       " -2.4447560193898533e-47\n",
       " -1.7113292135728973e-47\n",
       " -1.197930449501028e-47\n",
       " -8.385513146507197e-48\n",
       " -5.869859202555036e-48\n",
       " -4.1089014417885256e-48\n",
       " -2.876231009251968e-48\n",
       " -2.0133617064763772e-48\n",
       " -1.4093531945334638e-48\n",
       " -9.865472361734247e-49\n",
       " -6.905830653213972e-49"
      ]
     },
     "execution_count": 5,
     "metadata": {},
     "output_type": "execute_result"
    }
   ],
   "source": [
    "# Income (ss)\n",
    "Zs = fill(1.0, end_T)\n",
    "# Interest rate (ss)\n",
    "rs_ss = fill(hh_ss_all_vals[\"r\"], end_T)\n",
    "\n",
    "# Interest Rate Shock\n",
    "rho_r = 0.7 # Persistence\n",
    "dr = -0.01 * rho_r .^ collect(0:end_T-1)\n",
    "\n",
    "# If we don't drop first col and last row of the J_C_r jacobian, the shock enters at t=2 and not t=1\n",
    "adj_dr = fill(0.0, end_T)\n",
    "adj_dr[2:end_T] = dr[1:299]\n",
    "\n",
    "rs = rs_ss + adj_dr\n",
    "\n",
    "# New dr (if we drop first col and last row of jacobian)\n",
    "new_dr = dr[1:299]"
   ]
  },
  {
   "cell_type": "code",
   "execution_count": 6,
   "metadata": {},
   "outputs": [
    {
     "data": {
      "image/png": "[encoded data removed]",
      "text/plain": [
       "Figure(PyObject <Figure size 640x480 with 1 Axes>)"
      ]
     },
     "metadata": {},
     "output_type": "display_data"
    },
    {
     "data": {
      "text/plain": [
       "1-element Vector{PyCall.PyObject}:\n",
       " PyObject <matplotlib.lines.Line2D object at 0x10d9a1b10>"
      ]
     },
     "execution_count": 6,
     "metadata": {},
     "output_type": "execute_result"
    }
   ],
   "source": [
    "goods_mkt_error, impulse = impulse_map(rs, Zs, hh_ss_all_vals, end_T)\n",
    "plot(goods_mkt_error)"
   ]
  },
  {
   "cell_type": "code",
   "execution_count": 7,
   "metadata": {},
   "outputs": [
    {
     "name": "stdout",
     "output_type": "stream",
     "text": [
      "1 2 3 4 5 6 7 8 9 10 11 12 13 14 15 16 17 18 19 20 21 22 23 24 25 26 27 28 29 30 31 32 33 34 35 36 37 38 39 40 41 42 43 44 45 46 47 48 49 50 51 52 53 54 55 56 57 58 59 60 61 62 63 64 65 66 67 68 69 70 71 72 73 74 75 76 77 78 79 80 81 82 83 84 85 86 87 88 89 90 91 92 93 94 95 96 97 98 99 100 101 102 103 104 105 106 107 108 109 110 111 112 113 114 115 116 117 118 119 120 121 122 123 124 125 126 127 128 129 130 131 132 133 134 135 136 137 138 139 140 141 142 143 144 145 146 147 148 149 150 151 152 153 154 155 156 157 158 159 160 161 162 163 164 165 166 167 168 169 170 171 172 173 174 175 176 177 178 179 180 181 182 183 184 185 186 187 188 189 190 191 192 193 194 195 196 197 198 199 200 201 202 203 204 205 206 207 208 209 210 211 212 213 214 215 216 217 218 219 220 221 222 223 224 225 226 227 228 229 230 231 232 233 234 235 236 237 238 239 240 241 242 243 244 245 246 247 248 249 250 251 252 253 254 255 256 257 258 259 260 261 262 263 264 265 266 267 268 269 270 271 272 273 274 275 276 277 278 279 280 281 282 283 284 285 286 287 288 289 290 291 292 293 294 295 296 297 298 299 300 "
     ]
    }
   ],
   "source": [
    "J_r = zeros(end_T, end_T)\n",
    "h = 1e-4 # small shock to r \n",
    "no_shock = impulse_map(rs_ss, Zs, hh_ss_all_vals, end_T)[1]\n",
    "for tshock in 1:end_T\n",
    "    r_shock = fill(hh_ss_all_vals[\"r\"], 300)\n",
    "    r_shock[tshock] = hh_ss_all_vals[\"r\"] + h\n",
    "    J_r[:, tshock] = (impulse_map(r_shock, Zs, hh_ss_all_vals, end_T)[1] - no_shock) ./ h\n",
    "    print(tshock, \" \")\n",
    "end"
   ]
  },
  {
   "cell_type": "code",
   "execution_count": 8,
   "metadata": {},
   "outputs": [
    {
     "data": {
      "text/plain": [
       "300×300 Matrix{Float64}:\n",
       " -5.94849e-12  -9.77773e-13  -7.75741e-12  …  -1.71158e-12  -1.71253e-12\n",
       " -8.15101e-12   4.80527e-5    5.00274e-6      -1.46543e-12  -1.4646e-12\n",
       "  1.09247e-11  -8.74746e-6    6.44454e-5      -1.24753e-12  -1.24848e-12\n",
       "  7.31687e-12  -7.85297e-7   -1.07313e-5      -1.0566e-12   -1.05577e-12\n",
       "  2.14203e-11  -5.12174e-8   -6.46755e-7      -8.85447e-13  -8.86395e-13\n",
       " -8.20187e-12   4.56209e-7    5.64003e-7   …  -7.34756e-13  -7.33924e-13\n",
       " -1.12457e-11   7.36205e-7    1.25204e-6      -5.98637e-13  -5.9958e-13\n",
       " -5.28839e-12   8.07402e-7    1.55996e-6      -4.78696e-13  -4.77858e-13\n",
       "  2.21247e-12   7.95874e-7    1.57281e-6      -3.6972e-13   -3.70658e-13\n",
       "  1.37173e-11   7.32928e-7    1.47938e-6      -2.73843e-13  -2.73001e-13\n",
       "  3.73888e-12   6.51296e-7    1.32864e-6   …  -1.86272e-13  -1.87205e-13\n",
       " -2.04516e-11   5.66713e-7    1.1623e-6       -1.09478e-13  -1.08631e-13\n",
       "  1.58931e-11   4.8675e-7     1.00055e-6      -3.89477e-14  -3.98772e-14\n",
       "  ⋮                                        ⋱                \n",
       " -3.3606e-12   -2.42937e-13  -6.17149e-13     -3.70534e-7   -2.62762e-7\n",
       " -2.97069e-14   1.97462e-12  -6.19045e-13     -5.22692e-7   -3.70534e-7\n",
       " -2.25109e-12   8.63794e-13  -6.2148e-13   …  -6.45558e-7   -5.22691e-7\n",
       " -1.14078e-12   1.97624e-12  -6.21553e-13     -8.05004e-7   -6.45554e-7\n",
       " -3.35768e-12   3.08277e-12  -6.21166e-13     -1.1124e-6    -8.05006e-7\n",
       " -4.46723e-12   1.97947e-12  -6.23239e-13     -1.75965e-6   -1.11241e-6\n",
       " -2.24906e-12   1.97851e-12  -6.16382e-13     -1.98894e-6   -1.75965e-6\n",
       " -1.13748e-12   1.97738e-12  -6.17733e-13  …  -1.65564e-6   -1.98894e-6\n",
       " -2.24835e-12   3.08726e-12  -6.18948e-13     -1.27129e-6   -1.65565e-6\n",
       " -1.13981e-12   8.65066e-13  -6.20206e-13      9.8209e-6    -1.27129e-6\n",
       " -2.90386e-14   8.6597e-13    4.89379e-13      8.6199e-5     9.8209e-6\n",
       " -1.13827e-12   8.65527e-13  -6.20754e-13     -3.92837e-6    8.6199e-5"
      ]
     },
     "execution_count": 8,
     "metadata": {},
     "output_type": "execute_result"
    }
   ],
   "source": [
    "# Shooting Algo. Jacobian\n",
    "#J_r\n",
    "max.(J_r - het_Js[\"C\"][\"r\"])# --> These are the same. J_r (from the shooting algo) uses impulse map while het_Js uses the fake-news algo, this might actually be the right jacobian"
   ]
  },
  {
   "cell_type": "code",
   "execution_count": 12,
   "metadata": {},
   "outputs": [
    {
     "data": {
      "text/plain": [
       "UniformScaling{Bool}\n",
       "true*I"
      ]
     },
     "execution_count": 12,
     "metadata": {},
     "output_type": "execute_result"
    }
   ],
   "source": [
    "# jacobians\n",
    "dGoods_dZ = -1 .* I\n",
    "dGoods_dC = I\n",
    "J_C_z = het_Js[\"C\"][\"z\"]\n",
    "J_C_r = het_Js[\"C\"][\"r\"]\n",
    "J_r_rante = I"
   ]
  },
  {
   "cell_type": "code",
   "execution_count": 13,
   "metadata": {},
   "outputs": [
    {
     "data": {
      "image/png": "[encoded data removed]",
      "text/plain": [
       "Figure(PyObject <Figure size 640x480 with 1 Axes>)"
      ]
     },
     "metadata": {},
     "output_type": "display_data"
    },
    {
     "data": {
      "text/plain": [
       "1-element Vector{PyCall.PyObject}:\n",
       " PyObject <matplotlib.lines.Line2D object at 0x119afe500>"
      ]
     },
     "execution_count": 13,
     "metadata": {},
     "output_type": "execute_result"
    }
   ],
   "source": [
    "# Impulse response without jacobian dimension adjustments\n",
    "H_r = (dGoods_dC * J_C_r * J_r_rante)\n",
    "H_z = (dGoods_dZ + (dGoods_dC * J_C_z))\n",
    "inv_H_z = H_z \\ I\n",
    "dZ = -1 .* inv_H_z * H_r * adj_dr\n",
    "xlabel(\"Period\")\n",
    "ylabel(\"Percentage point response in output (dZ)\")\n",
    "plot(dZ[1:30] .* 100)"
   ]
  },
  {
   "cell_type": "code",
   "execution_count": 14,
   "metadata": {},
   "outputs": [
    {
     "data": {
      "image/png": "[encoded data removed]",
      "text/plain": [
       "Figure(PyObject <Figure size 640x480 with 1 Axes>)"
      ]
     },
     "metadata": {},
     "output_type": "display_data"
    },
    {
     "data": {
      "text/plain": [
       "1-element Vector{PyCall.PyObject}:\n",
       " PyObject <matplotlib.lines.Line2D object at 0x119b762c0>"
      ]
     },
     "execution_count": 14,
     "metadata": {},
     "output_type": "execute_result"
    }
   ],
   "source": [
    "# Impulse response with jacobian dimension adjustments (new)\n",
    "H_r_new = (dGoods_dC * J_C_r * J_r_rante)[1:end-1, 2:end]\n",
    "H_z_new = (dGoods_dZ + (dGoods_dC * J_C_z))[1:end-1, 1:end-1]\n",
    "inv_H_z_new = H_z_new \\ I\n",
    "dZ_new = -1 .* inv_H_z_new * H_r_new * new_dr\n",
    "plot(dZ[1:30])"
   ]
  },
  {
   "cell_type": "code",
   "execution_count": null,
   "metadata": {},
   "outputs": [],
   "source": []
  }
 ],
 "metadata": {
  "kernelspec": {
   "display_name": "Julia 1.7.3",
   "language": "julia",
   "name": "julia-1.7"
  },
  "language_info": {
   "file_extension": ".jl",
   "mimetype": "application/julia",
   "name": "julia",
   "version": "1.7.3"
  }
 },
 "nbformat": 4,
 "nbformat_minor": 2
}
