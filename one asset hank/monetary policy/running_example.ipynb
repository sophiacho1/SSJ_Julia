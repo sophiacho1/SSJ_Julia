{
 "cells": [
  {
   "cell_type": "markdown",
   "metadata": {},
   "source": [
    "## Canonical HANK using SSJ_Julia\n",
    "\n",
    "* We illustrate the functionality of our Julia SSJ package by running a simple cannonical HANK model here."
   ]
  },
  {
   "cell_type": "markdown",
   "metadata": {},
   "source": [
    "### 1. Defining the model and getting the steady state"
   ]
  },
  {
   "cell_type": "markdown",
   "metadata": {},
   "source": [
    "* Defining the cannonical HANK model as in Lecture 4/Tutorial 1 of the workshop using our package\n",
    "* Obtaining ss values and policies while enforcing GE"
   ]
  },
  {
   "cell_type": "code",
   "execution_count": 75,
   "metadata": {},
   "outputs": [],
   "source": [
    "using PyPlot"
   ]
  },
  {
   "cell_type": "code",
   "execution_count": 76,
   "metadata": {},
   "outputs": [
    {
     "data": {
      "text/plain": [
       "\"+=\\nAuthors (by last name): Sophia Cho, Ibrahima Diagne, and Anchi (Bryant) Xia\\n+=\""
      ]
     },
     "metadata": {},
     "output_type": "display_data"
    }
   ],
   "source": [
    "\"+=\n",
    "Authors (by last name): Sophia Cho, Ibrahima Diagne, and Anchi (Bryant) Xia\n",
    "+=\""
   ]
  },
  {
   "cell_type": "code",
   "execution_count": 77,
   "metadata": {},
   "outputs": [
    {
     "data": {
      "text/plain": [
       "construct (generic function with 1 method)"
      ]
     },
     "metadata": {},
     "output_type": "display_data"
    }
   ],
   "source": [
    "include(\"het.jl\")\n",
    "include(\"graph.jl\")"
   ]
  },
  {
   "cell_type": "markdown",
   "metadata": {},
   "source": [
    "1.1 Defining the blocks \n",
    "* For exogenenous variables, we can simply specifiy the values in the input dictionary.\n",
    "* This probably will be turned into a \"calibrate\" block in the future so we do not have to re-type inputs."
   ]
  },
  {
   "cell_type": "code",
   "execution_count": 78,
   "metadata": {},
   "outputs": [
    {
     "data": {
      "text/plain": [
       "4-element Vector{Dict{String, Vector{String}}}:\n",
       " Dict(\"ins\" => [\"r\", \"G\", \"B\", \"Y\"], \"outs\" => [\"Z\"])\n",
       " Dict(\"ins\" => [\"Z\", \"r\"], \"outs\" => [\"A\"])\n",
       " Dict(\"ins\" => [\"A\", \"B\"], \"outs\" => [\"asset_mkt\"])\n",
       " Dict(\"ins\" => [\"Y\", \"C\", \"G\"], \"outs\" => [\"goods_mkt\"])"
      ]
     },
     "metadata": {},
     "output_type": "display_data"
    }
   ],
   "source": [
    "# Specify ins and outs\n",
    "ins_outs = [\n",
    "    Dict(\"ins\" => [\"r\", \"G\", \"B\", \"Y\"], \"outs\" => [\"Z\"]), # Fiscal block\n",
    "    Dict(\"ins\" => [\"Z\", \"r\"], \"outs\" => [\"A\"]), # HA block\n",
    "    Dict(\"ins\" => [\"A\", \"B\"], \"outs\" => [\"asset_mkt\"]), # Asset market clearing\n",
    "    Dict(\"ins\" => [\"Y\", \"C\", \"G\"], \"outs\" => [\"goods_mkt\"]), # Goods market clearing\n",
    "]"
   ]
  },
  {
   "cell_type": "code",
   "execution_count": 79,
   "metadata": {},
   "outputs": [
    {
     "data": {
      "text/plain": [
       "Block(Dict{Any, Any}(\"Y\" => 1.0, \"B\" => 0.8, \"r\" => 0.03, \"G\" => 0.2), Dict{Any, Any}(\"Z\" => nothing), f_fiscal, \"Fiscal\", Any[Dict((\"Z\", \"r\") => \"∂Z/∂r\"), Dict((\"Z\", \"G\") => \"∂Z/∂G\"), Dict((\"Z\", \"B\") => \"∂Z/∂B\"), Dict((\"Z\", \"Y\") => \"∂Z/∂Y\")])"
      ]
     },
     "metadata": {},
     "output_type": "display_data"
    }
   ],
   "source": [
    "# Define the fiscal block\n",
    "dict_in_fiscal = Dict{Any, Any}(\n",
    "    \"B\" => 0.8,\n",
    "    \"r\" => 0.03,\n",
    "    \"G\" => 0.2,\n",
    "    \"Y\" => 1.0\n",
    ")\n",
    "dict_out_fiscal = Dict{Any, Any}(\n",
    "    \"Z\" => nothing\n",
    ")\n",
    "\n",
    "\"+=\n",
    "fiscal_function: inputs -> outputs\n",
    "=+\"\n",
    "\n",
    "function f_fiscal(block::Block)\n",
    "    B, r, G, Y = block.ins[\"B\"], block.ins[\"r\"], block.ins[\"G\"], block.ins[\"Y\"]\n",
    "    T = G + r * B\n",
    "    Z = Y - T\n",
    "    block.outs[\"Z\"] = Z\n",
    "end\n",
    "\n",
    "fiscal_block = Block(dict_in_fiscal, dict_out_fiscal, f_fiscal, ins_outs, \"Fiscal\")"
   ]
  },
  {
   "cell_type": "code",
   "execution_count": 80,
   "metadata": {},
   "outputs": [
    {
     "data": {
      "text/plain": [
       "Block(Dict{Any, Any}(\"Y\" => 1.0, \"B\" => 0.8, \"A\" => nothing, \"C\" => nothing, \"G\" => 0.2), Dict{Any, Any}(\"goods_mkt\" => nothing, \"asset_mkt\" => nothing), f_mkt_clearing, \"Clearing\", Any[Dict((\"goods_mkt\", \"Y\") => \"∂goods_mkt/∂Y\"), Dict((\"goods_mkt\", \"C\") => \"∂goods_mkt/∂C\"), Dict((\"goods_mkt\", \"G\") => \"∂goods_mkt/∂G\"), Dict((\"asset_mkt\", \"A\") => \"∂asset_mkt/∂A\"), Dict((\"asset_mkt\", \"B\") => \"∂asset_mkt/∂B\")])"
      ]
     },
     "metadata": {},
     "output_type": "display_data"
    }
   ],
   "source": [
    "# Define the market clearing block\n",
    "function f_mkt_clearing(block::Block)\n",
    "    A, B, Y, C, G = block.ins[\"A\"], block.ins[\"B\"], block.ins[\"Y\"], block.ins[\"C\"], block.ins[\"G\"]\n",
    "    asset_mkt = A - B\n",
    "    goods_mkt = Y - C - G\n",
    "    block.outs[\"asset_mkt\"] = asset_mkt\n",
    "    block.outs[\"goods_mkt\"] = goods_mkt\n",
    "end\n",
    "\n",
    "dict_in_mkt = Dict{Any, Any}(\n",
    "    \"A\" => nothing,\n",
    "    \"B\" => 0.8,\n",
    "    \"Y\" => 1.0,\n",
    "    \"C\" => nothing,\n",
    "    \"G\" => 0.2\n",
    ")\n",
    "dict_out_mkt = Dict{Any, Any}(\n",
    "    \"asset_mkt\" => nothing,\n",
    "    \"goods_mkt\" => nothing\n",
    ")\n",
    "mkt_clearing_block = Block(dict_in_mkt, dict_out_mkt, f_mkt_clearing, ins_outs, \"Clearing\")"
   ]
  },
  {
   "cell_type": "code",
   "execution_count": 81,
   "metadata": {},
   "outputs": [
    {
     "data": {
      "text/plain": [
       "HH_Block(Dict{Any, Any}(\"Z\" => nothing, \"r\" => nothing), Dict{Any, Any}(\"A\" => nothing, \"C\" => nothing), \"HA\", Any[], Dict{Any, Any}())"
      ]
     },
     "metadata": {},
     "output_type": "display_data"
    }
   ],
   "source": [
    "# Household block\n",
    "hh_block = HH_Block(Dict{Any, Any}(\"Z\" => nothing, \"r\" => nothing), Dict{Any, Any}(\"A\" => nothing, \"C\" => nothing), \"HA\", []) # Defining a placeholder for the heterogeneous agent block"
   ]
  },
  {
   "cell_type": "code",
   "execution_count": 82,
   "metadata": {},
   "outputs": [
    {
     "data": {
      "text/plain": [
       "DAG_Rep(Any[Block(Dict{Any, Any}(\"Y\" => 1.0, \"B\" => 0.8, \"r\" => 0.03, \"G\" => 0.2), Dict{Any, Any}(\"Z\" => nothing), f_fiscal, \"Fiscal\", Any[Dict((\"Z\", \"r\") => \"∂Z/∂r\"), Dict((\"Z\", \"G\") => \"∂Z/∂G\"), Dict((\"Z\", \"B\") => \"∂Z/∂B\"), Dict((\"Z\", \"Y\") => \"∂Z/∂Y\")]), HH_Block(Dict{Any, Any}(\"Z\" => nothing, \"r\" => nothing), Dict{Any, Any}(\"A\" => nothing, \"C\" => nothing), \"HA\", Any[], Dict{Any, Any}()), Block(Dict{Any, Any}(\"Y\" => 1.0, \"B\" => 0.8, \"A\" => nothing, \"C\" => nothing, \"G\" => 0.2), Dict{Any, Any}(\"goods_mkt\" => nothing, \"asset_mkt\" => nothing), f_mkt_clearing, \"Clearing\", Any[Dict((\"goods_mkt\", \"Y\") => \"∂goods_mkt/∂Y\"), Dict((\"goods_mkt\", \"C\") => \"∂goods_mkt/∂C\"), Dict((\"goods_mkt\", \"G\") => \"∂goods_mkt/∂G\"), Dict((\"asset_mkt\", \"A\") => \"∂asset_mkt/∂A\"), Dict((\"asset_mkt\", \"B\") => \"∂asset_mkt/∂B\")])], Dict{Any, Any}(\"Y\" => Set([3, 1]), \"B\" => Set([3, 1]), \"Z\" => Set([2]), \"A\" => Set([3]), \"C\" => Set([3]), \"r\" => Set([2, 1]), \"G\" => Set([3, 1])), Dict{Any, Any}(2 => Set(Any[3]), 3 => Set{Any}(), 1 => Set(Any[2])), Any[Block(Dict{Any, Any}(\"Y\" => 1.0, \"B\" => 0.8, \"r\" => 0.03, \"G\" => 0.2), Dict{Any, Any}(\"Z\" => nothing), f_fiscal, \"Fiscal\", Any[Dict((\"Z\", \"r\") => \"∂Z/∂r\"), Dict((\"Z\", \"G\") => \"∂Z/∂G\"), Dict((\"Z\", \"B\") => \"∂Z/∂B\"), Dict((\"Z\", \"Y\") => \"∂Z/∂Y\")]), HH_Block(Dict{Any, Any}(\"Z\" => nothing, \"r\" => nothing), Dict{Any, Any}(\"A\" => nothing, \"C\" => nothing), \"HA\", Any[], Dict{Any, Any}()), Block(Dict{Any, Any}(\"Y\" => 1.0, \"B\" => 0.8, \"A\" => nothing, \"C\" => nothing, \"G\" => 0.2), Dict{Any, Any}(\"goods_mkt\" => nothing, \"asset_mkt\" => nothing), f_mkt_clearing, \"Clearing\", Any[Dict((\"goods_mkt\", \"Y\") => \"∂goods_mkt/∂Y\"), Dict((\"goods_mkt\", \"C\") => \"∂goods_mkt/∂C\"), Dict((\"goods_mkt\", \"G\") => \"∂goods_mkt/∂G\"), Dict((\"asset_mkt\", \"A\") => \"∂asset_mkt/∂A\"), Dict((\"asset_mkt\", \"B\") => \"∂asset_mkt/∂B\")])], Any[Dict((\"Z\", \"r\") => \"∂Z/∂r\"), Dict((\"Z\", \"G\") => \"∂Z/∂G\"), Dict((\"Z\", \"B\") => \"∂Z/∂B\"), Dict((\"Z\", \"Y\") => \"∂Z/∂Y\"), Dict((\"goods_mkt\", \"Y\") => \"∂goods_mkt/∂Y\"), Dict((\"goods_mkt\", \"C\") => \"∂goods_mkt/∂C\"), Dict((\"goods_mkt\", \"G\") => \"∂goods_mkt/∂G\"), Dict((\"asset_mkt\", \"A\") => \"∂asset_mkt/∂A\"), Dict((\"asset_mkt\", \"B\") => \"∂asset_mkt/∂B\")])"
      ]
     },
     "metadata": {},
     "output_type": "display_data"
    }
   ],
   "source": [
    "c_hank = DAG_Rep([fiscal_block, hh_block, mkt_clearing_block])"
   ]
  },
  {
   "cell_type": "markdown",
   "metadata": {},
   "source": [
    "* The above cell created the DAG representation of the cannonical HANK model."
   ]
  },
  {
   "cell_type": "code",
   "execution_count": 83,
   "metadata": {},
   "outputs": [
    {
     "data": {
      "text/plain": [
       "Dict{String, Real} with 10 entries:\n",
       "  \"B\"     => 0.8\n",
       "  \"max_a\" => 1000\n",
       "  \"n_e\"   => 10\n",
       "  \"min_a\" => 0.0\n",
       "  \"eis\"   => 0.5\n",
       "  \"rho_e\" => 0.9\n",
       "  \"sd_e\"  => 0.92\n",
       "  \"r\"     => 0.03\n",
       "  \"n_a\"   => 200\n",
       "  \"beta\"  => 0.85"
      ]
     },
     "metadata": {},
     "output_type": "display_data"
    }
   ],
   "source": [
    "calibration = Dict(\"eis\" => 0.5,  # Elasticity of intertemporal substitution\n",
    "                   \"rho_e\" => 0.9,  # Persistence of idiosyncratic productivity shocks\n",
    "                   \"sd_e\" => 0.92,  # Standard deviation of idiosyncratic productivity shocks\n",
    "                   \"G\" => 0.2,  # Government spending\n",
    "                   \"B\" => 0.8,  # Government debt\n",
    "                   \"Y\" => 1.,  # Output\n",
    "                   \"min_a\" => 0.,  # Minimum asset level on the grid\n",
    "                   \"max_a\" => 1_000,  # Maximum asset level on the grid\n",
    "                   \"n_a\" => 200,  # Number of asset grid points\n",
    "                   \"n_e\" => 10,  # Number of productivity grid points\n",
    "                   \"r\" => 0.03,\n",
    "                   \"beta\" => 0.85)\n",
    "                   \n",
    "inputs_to_hh = Dict(\"eis\" => calibration[\"eis\"], \n",
    "                    \"rho_e\" => calibration[\"rho_e\"],\n",
    "                    \"sd_e\" => calibration[\"sd_e\"],\n",
    "                    \"n_e\" => calibration[\"n_e\"],\n",
    "                    \"min_a\" => calibration[\"min_a\"],\n",
    "                    \"max_a\" => calibration[\"max_a\"],\n",
    "                    \"n_a\" => calibration[\"n_a\"],\n",
    "                    \"r\" => calibration[\"r\"],\n",
    "                    \"beta\" => calibration[\"beta\"],\n",
    "                    \"eis\" => calibration[\"eis\"],\n",
    "                    \"B\" => calibration[\"B\"])"
   ]
  },
  {
   "cell_type": "code",
   "execution_count": 84,
   "metadata": {},
   "outputs": [
    {
     "name": "stdout",
     "output_type": "stream",
     "text": [
      "Dict{Any, Any}(\"Z\" => 0.776, \"A\" => 0.7999999999999997, \"C\" => 0.8000000004849723, \"goods_mkt\" => -4.849723400646155e-10, \"asset_mkt\" => -3.3306690738754696e-16)\n"
     ]
    }
   ],
   "source": [
    "### Print steady state exogenous values from DAG\n",
    "ss_vals, hh_ss_all_vals = DAG_get_ss(c_hank, \"None\", inputs_to_hh)\n",
    "println(ss_vals)"
   ]
  },
  {
   "cell_type": "markdown",
   "metadata": {},
   "source": [
    "### 2. Impulse response while enforcing GE"
   ]
  },
  {
   "cell_type": "markdown",
   "metadata": {},
   "source": [
    "Example 1\n",
    "\n",
    "* Shock to $G$ and $B$ (deficit financed)\n",
    "* $r$ adjusts for market clearing\n",
    "* In short, monetary policy counters fiscal policy to keep output constant."
   ]
  },
  {
   "cell_type": "code",
   "execution_count": 85,
   "metadata": {},
   "outputs": [
    {
     "data": {
      "text/plain": [
       "300"
      ]
     },
     "metadata": {},
     "output_type": "display_data"
    }
   ],
   "source": [
    "end_T = 300 # Truncation period"
   ]
  },
  {
   "cell_type": "code",
   "execution_count": 86,
   "metadata": {
    "scrolled": false
   },
   "outputs": [
    {
     "data": {
      "text/plain": [
       "PyObject Text(0, 0.5, '% of G above steady state')"
      ]
     },
     "metadata": {},
     "output_type": "display_data"
    }
   ],
   "source": [
    "# Fiscal shock with deficit finance\n",
    "\n",
    "rho_G = 0.8 # Shocking Z is as if we are subtracting from Z directly (equivalent to G increase; need to account for increase elsewhere)\n",
    "dG = 0.01 * rho_G .^ collect(0:end_T-1)\n",
    "Gs = fill(0.2, end_T) + dG\n",
    "\n",
    "rho_B = 0.9\n",
    "dB = cumsum(dG) .* (rho_B .^ collect(0:end_T-1))\n",
    "Bs_prev = fill(0.8, end_T)\n",
    "Bs_prev[2:end] += dB[1:end-1]\n",
    "Bs = fill(0.8, end_T) + dB\n",
    "\n",
    "rs_ss = fill(0.03, end_T)\n",
    "\n",
    "taxes = (1 .+ rs_ss) .* Bs_prev .- Bs .+ Gs\n",
    "plot(100 .* (Gs .- 0.2))\n",
    "xlabel(\"Period\")\n",
    "ylabel(\"% of G above steady state\")"
   ]
  },
  {
   "cell_type": "markdown",
   "metadata": {},
   "source": [
    "The cells below are outdated. The first of which calculated the Jacobian using the direct perturbation method; the second uses the Jacobian to update the guesses using Newton's algorithm. "
   ]
  },
  {
   "cell_type": "code",
   "execution_count": 87,
   "metadata": {},
   "outputs": [],
   "source": [
    "# J_r = zeros(end_T, end_T)\n",
    "# h = 1e-4 # small shock to r \n",
    "# Ys_ss = fill(1.0, end_T)\n",
    "# no_shock = impulse_map(Ys_ss, rs_ss, Bs, Bs_prev, Gs, hh_ss_all_vals, end_T)[1]\n",
    "# for tshock in 1:end_T\n",
    "#     r_shock = fill(hh_ss_all_vals[\"r\"], 300)\n",
    "#     r_shock[tshock] = hh_ss_all_vals[\"r\"] + h\n",
    "#     J_r[:, tshock] = (impulse_map(Ys_ss, r_shock, Bs, Bs_prev, Gs, hh_ss_all_vals, end_T)[1] - no_shock) ./ h\n",
    "#     print(tshock, \" \")\n",
    "# end"
   ]
  },
  {
   "cell_type": "code",
   "execution_count": 88,
   "metadata": {
    "scrolled": true
   },
   "outputs": [],
   "source": [
    "# rs = fill(hh_ss_all_vals[\"r\"], end_T)\n",
    "# Jbar = J_r[1:end-1, 2:end] \n",
    "# errs = Float64[]\n",
    "# for it in 1:100\n",
    "#     asset_mkt_error, good_mkt_error, impulse = impulse_map(Ys_ss, rs, Bs, Bs_prev, Gs, hh_ss_all_vals, end_T)\n",
    "#     plot(asset_mkt_error, label=\"iteration $it\")\n",
    "#     err = maximum(abs.(asset_mkt_error[1:end-1])) # solve for asset market clearing at 0, 1, ..., T-2\n",
    "#     push!(errs, err)\n",
    "#     if err < 1E-10\n",
    "#         println(\"Asset market clearing up to 12 digits after $it iterations\")\n",
    "#         break\n",
    "#     end\n",
    "#     rs[2:end] -= Jbar \\ asset_mkt_error[1:end-1] # adjust r_1, ..., r_(T-1)\n",
    "#     println(\"This is the maximum error $err after iteration $it\")\n",
    "# end\n",
    "# legend();"
   ]
  },
  {
   "cell_type": "code",
   "execution_count": 89,
   "metadata": {
    "scrolled": true
   },
   "outputs": [
    {
     "name": "stdout",
     "output_type": "stream",
     "text": [
      "het-block Jacobians complete\n"
     ]
    }
   ],
   "source": [
    "include(\"het.jl\")\n",
    "include(\"graph.jl\")\n",
    "het_Js = ha_jacobian(hh_ss_all_vals, Dict(\"r\" => Dict(\"r\" => 1), \"z\" => Dict(\"z\" => 1)), 1.0, 0.8, 0.8, 0.2, end_T, false) # Multiplied by h which is 1e-4\n",
    "println(\"het-block Jacobians complete\")"
   ]
  },
  {
   "cell_type": "code",
   "execution_count": 90,
   "metadata": {},
   "outputs": [
    {
     "name": "stdout",
     "output_type": "stream",
     "text": [
      "Intialized steady state sequences\n"
     ]
    }
   ],
   "source": [
    "Ys_ss = fill(1.0, end_T)\n",
    "no_shock_ss = zeros(end_T, 10)\n",
    "rs_ss = fill(hh_ss_all_vals[\"r\"], end_T)\n",
    "println(\"Intialized steady state sequences\")"
   ]
  },
  {
   "cell_type": "code",
   "execution_count": 91,
   "metadata": {},
   "outputs": [
    {
     "name": "stdout",
     "output_type": "stream",
     "text": [
      "This is the maximum error 0.024094531908630867 after iteration 1\n"
     ]
    },
    {
     "name": "stdout",
     "output_type": "stream",
     "text": [
      "This is the maximum error 5.843447019937553e-5 after iteration 2\n"
     ]
    },
    {
     "name": "stdout",
     "output_type": "stream",
     "text": [
      "This is the maximum error 9.759626335981153e-7 after iteration 3\n"
     ]
    },
    {
     "name": "stdout",
     "output_type": "stream",
     "text": [
      "This is the maximum error 2.295880774383363e-8 after iteration 4\n"
     ]
    },
    {
     "name": "stdout",
     "output_type": "stream",
     "text": [
      "This is the maximum error 5.538669523019735e-10 after iteration 5\n"
     ]
    },
    {
     "name": "stdout",
     "output_type": "stream",
     "text": [
      "Asset market clearing up to 12 digits after 6 iterations\n"
     ]
    }
   ],
   "source": [
    "rs = fill(hh_ss_all_vals[\"r\"], end_T)\n",
    "Jbar = (het_Js[\"A\"][\"r\"] - 0.8 .* het_Js[\"A\"][\"z\"])[1:end-1, 2:end] \n",
    "errs = Float64[]\n",
    "for it in 1:100\n",
    "    asset_mkt_error, good_mkt_error, impulse = impulse_map(Ys_ss, rs, Bs, Bs_prev, Gs, hh_ss_all_vals, end_T)\n",
    "    plot(asset_mkt_error, label=\"iteration $it\")\n",
    "    err = maximum(abs.(asset_mkt_error[1:end-1])) # Solve for asset market clearing at 0, 1, ..., T-2\n",
    "    push!(errs, err)\n",
    "    if err < 1E-10\n",
    "        println(\"Asset market clearing up to 12 digits after $it iterations\")\n",
    "        break\n",
    "    end\n",
    "    rs[2:end] -= Jbar \\ asset_mkt_error[1:end-1] # Adjust r_1, ..., r_(T-1)\n",
    "    println(\"This is the maximum error $err after iteration $it\")\n",
    "end\n",
    "legend();"
   ]
  },
  {
   "cell_type": "code",
   "execution_count": 92,
   "metadata": {},
   "outputs": [
    {
     "data": {
      "text/plain": [
       "1-element Vector{PyCall.PyObject}:\n",
       " PyObject <matplotlib.lines.Line2D object at 0x11b5296f0>"
      ]
     },
     "metadata": {},
     "output_type": "display_data"
    }
   ],
   "source": [
    "xlabel(\"Period\")\n",
    "ylabel(\"Increase in interest rate (abs)\")\n",
    "plot(100 .* (rs .- 0.03))"
   ]
  },
  {
   "cell_type": "markdown",
   "metadata": {},
   "source": [
    "* Interest rate is 0 (compared to ss) since this is carried over from the previous period (we set interest for the next period).\n",
    "* General shape makes sense.\n",
    "* We could have used the other Jacobian for this exercise (clearing the goods market instead of the asset market; same by Walras's law)."
   ]
  },
  {
   "cell_type": "code",
   "execution_count": 93,
   "metadata": {
    "scrolled": true
   },
   "outputs": [
    {
     "name": "stdout",
     "output_type": "stream",
     "text": [
      "This is the maximum error 0.008106307959409309 after iteration 1\n"
     ]
    },
    {
     "name": "stdout",
     "output_type": "stream",
     "text": [
      "This is the maximum error 4.36370335988312e-5 after iteration 2\n"
     ]
    },
    {
     "name": "stdout",
     "output_type": "stream",
     "text": [
      "This is the maximum error 9.068211405283133e-6 after iteration 3\n"
     ]
    },
    {
     "name": "stdout",
     "output_type": "stream",
     "text": [
      "This is the maximum error 8.987865762588587e-6 after iteration 4\n"
     ]
    },
    {
     "name": "stdout",
     "output_type": "stream",
     "text": [
      "This is the maximum error 8.017804292714814e-8 after iteration 5\n"
     ]
    },
    {
     "name": "stdout",
     "output_type": "stream",
     "text": [
      "This is the maximum error 1.687581741016686e-10 after iteration 6\n"
     ]
    },
    {
     "name": "stdout",
     "output_type": "stream",
     "text": [
      "Goods market clearing up to 12 digits after 7 iterations\n"
     ]
    }
   ],
   "source": [
    "rs = fill(0.03, end_T)\n",
    "Jbar = (-1 .* het_Js[\"C\"][\"r\"] + 0.8 .* het_Js[\"C\"][\"z\"])[1:end-1, 2:end] # This is w.r.t. to c; the goods market has it reversed\n",
    "errs = Float64[]\n",
    "impulse = nothing\n",
    "asset_mkt_error = nothing\n",
    "for it in 1:1000\n",
    "    asset_mkt_error, goods_mkt_error, impulse = impulse_map(Ys_ss, rs, Bs, Bs_prev, Gs, hh_ss_all_vals, end_T)\n",
    "    plot(goods_mkt_error, label=\"iteration $it\")\n",
    "    err = maximum(abs.(goods_mkt_error[1:end-1])) # Solve for asset market clearing at 0, 1, ..., T-2\n",
    "    push!(errs, err)\n",
    "    if err < 1E-10\n",
    "        println(\"Goods market clearing up to 12 digits after $it iterations\")\n",
    "        break\n",
    "    end\n",
    "    rs[2:end] -= (Jbar \\ goods_mkt_error[1:end-1]) # Adjust r_1, ..., r_(T-1)\n",
    "    println(\"This is the maximum error $err after iteration $it\")\n",
    "end\n",
    "legend();"
   ]
  },
  {
   "cell_type": "code",
   "execution_count": 94,
   "metadata": {},
   "outputs": [
    {
     "data": {
      "text/plain": [
       "1-element Vector{PyCall.PyObject}:\n",
       " PyObject <matplotlib.lines.Line2D object at 0x11b7e0580>"
      ]
     },
     "metadata": {},
     "output_type": "display_data"
    }
   ],
   "source": [
    "plot(rs .- 0.03)"
   ]
  },
  {
   "cell_type": "markdown",
   "metadata": {},
   "source": [
    "Example 2\n",
    "\n",
    "* We have the same shocks as before.\n",
    "* We hold $r$ fixed and let $Y$ adjust freely.\n",
    "* This is the same exercise as the second example in the fiscal policy tutorial."
   ]
  },
  {
   "cell_type": "code",
   "execution_count": 95,
   "metadata": {},
   "outputs": [
    {
     "name": "stdout",
     "output_type": "stream",
     "text": [
      "het-block Jacobians complete\n"
     ]
    }
   ],
   "source": [
    "include(\"het.jl\")\n",
    "include(\"graph.jl\")\n",
    "het_Js = ha_jacobian(hh_ss_all_vals, Dict(\"r\" => Dict(\"r\" => 1), \"z\" => Dict(\"z\" => 1)), 1.0, 0.8, 0.8, 0.2, end_T, false) # Multiplied by h which is 1e-4\n",
    "println(\"het-block Jacobians complete\")"
   ]
  },
  {
   "cell_type": "markdown",
   "metadata": {},
   "source": [
    "Again, the cells below are outdated, but may be useful for debugging's sake."
   ]
  },
  {
   "cell_type": "code",
   "execution_count": 96,
   "metadata": {},
   "outputs": [],
   "source": [
    "# Bs_ss = fill(0.8, end_T)\n",
    "# Gs_ss = fill(0.2, end_T)\n",
    "# J_z = zeros(end_T, end_T)\n",
    "# h = 1e-4 # small shock to r \n",
    "# Ys_ss = fill(1.0, end_T)\n",
    "# no_shock = impulse_map(Ys_ss, rs_ss, Bs_ss, Bs_ss, Gs_ss, hh_ss_all_vals, end_T)[1]\n",
    "# for tshock in 1:end_T\n",
    "#     Y_shock = fill(1.0, end_T)\n",
    "#     Y_shock[tshock] += h\n",
    "#     J_z[:, tshock] = (impulse_map(Y_shock, rs_ss, Bs_ss, Bs_ss, Gs_ss, hh_ss_all_vals, end_T)[1] - no_shock) ./ h\n",
    "#     print(tshock, \" \")\n",
    "# end"
   ]
  },
  {
   "cell_type": "code",
   "execution_count": 97,
   "metadata": {},
   "outputs": [],
   "source": [
    "# maximum(abs.(het_Js[\"A\"][\"z\"] - J_z))"
   ]
  },
  {
   "cell_type": "code",
   "execution_count": 98,
   "metadata": {
    "scrolled": true
   },
   "outputs": [
    {
     "name": "stdout",
     "output_type": "stream",
     "text": [
      "This is the maximum error 0.024094531908630867 after iteration 1\n"
     ]
    },
    {
     "name": "stdout",
     "output_type": "stream",
     "text": [
      "This is the maximum error 7.112085984528616e-5 after iteration 2\n"
     ]
    },
    {
     "name": "stdout",
     "output_type": "stream",
     "text": [
      "This is the maximum error 4.867118731377573e-7 after iteration 3\n"
     ]
    },
    {
     "name": "stdout",
     "output_type": "stream",
     "text": [
      "This is the maximum error 3.2075658795704953e-9 after iteration 4\n"
     ]
    },
    {
     "name": "stdout",
     "output_type": "stream",
     "text": [
      "Asset market clearing up to 12 digits after 5 iterations\n"
     ]
    }
   ],
   "source": [
    "Ys_update = fill(1.0, end_T)\n",
    "Jbar = het_Js[\"A\"][\"z\"][1:end-1, 1:end-1]\n",
    "errs = Float64[]\n",
    "impulse = nothing\n",
    "asset_mkt_error = nothing\n",
    "for it in 1:1000\n",
    "    asset_mkt_error, goods_mkt_error, impulse = impulse_map(Ys_update, rs_ss, Bs, Bs_prev, Gs, hh_ss_all_vals, end_T)\n",
    "    plot(asset_mkt_error, label=\"iteration $it\")\n",
    "    err = maximum(abs.(asset_mkt_error[1:end-1])) # Solve for asset market clearing at 0, 1, ..., T-2\n",
    "    push!(errs, err)\n",
    "    if err < 1E-10\n",
    "        println(\"Asset market clearing up to 12 digits after $it iterations\")\n",
    "        break\n",
    "    end\n",
    "    Ys_update[1:end-1] -= (Jbar \\ asset_mkt_error[1:end-1]) # Adjust r_1, ..., r_(T-1)\n",
    "    println(\"This is the maximum error $err after iteration $it\")\n",
    "end\n",
    "legend();"
   ]
  },
  {
   "cell_type": "code",
   "execution_count": 99,
   "metadata": {
    "scrolled": true
   },
   "outputs": [
    {
     "data": {
      "text/plain": [
       "1-element Vector{PyCall.PyObject}:\n",
       " PyObject <matplotlib.lines.Line2D object at 0x11b880b20>"
      ]
     },
     "metadata": {},
     "output_type": "display_data"
    }
   ],
   "source": [
    "plot(Ys_update)"
   ]
  },
  {
   "cell_type": "markdown",
   "metadata": {},
   "source": [
    "Alternatively, we know the asset market clears, so $dA = dB$. It sufficies to invert one Jacobian."
   ]
  },
  {
   "cell_type": "code",
   "execution_count": 100,
   "metadata": {
    "scrolled": true
   },
   "outputs": [
    {
     "data": {
      "text/plain": [
       "1-element Vector{PyCall.PyObject}:\n",
       " PyObject <matplotlib.lines.Line2D object at 0x11b880dc0>"
      ]
     },
     "metadata": {},
     "output_type": "display_data"
    }
   ],
   "source": [
    "dz = het_Js[\"A\"][\"z\"] \\ dB\n",
    "dY = taxes .- 0.224 + dz\n",
    "plot(dY)"
   ]
  },
  {
   "cell_type": "code",
   "execution_count": 101,
   "metadata": {},
   "outputs": [],
   "source": [
    "# Bs_ss = fill(0.8, end_T)\n",
    "# Gs_ss = fill(0.2, end_T)\n",
    "# J_cz = zeros(end_T, end_T)\n",
    "# h = 1e-4 # small shock to r \n",
    "# Ys_ss = fill(1.0, end_T)\n",
    "# no_shock = impulse_map(Ys_ss, rs_ss, Bs_ss, Bs_ss, Gs_ss, hh_ss_all_vals, end_T)[2]\n",
    "# for tshock in 1:end_T\n",
    "#     Y_shock = fill(1.0, end_T)\n",
    "#     Y_shock[tshock] += h\n",
    "#     J_cz[:, tshock] = (impulse_map(Y_shock, rs_ss, Bs_ss, Bs_ss, Gs_ss, hh_ss_all_vals, end_T)[2] - no_shock) ./ h\n",
    "#     print(tshock, \" \")\n",
    "# end"
   ]
  },
  {
   "cell_type": "code",
   "execution_count": 102,
   "metadata": {
    "scrolled": false
   },
   "outputs": [],
   "source": [
    "# Ys_update = fill(1.0, end_T)\n",
    "# Jbar = J_cz[1:end-1, 1:end-1]\n",
    "# errs = Float64[]\n",
    "# impulse = nothing\n",
    "# asset_mkt_error = nothing\n",
    "# for it in 1:1000\n",
    "#     asset_mkt_error, goods_mkt_error, impulse = impulse_map(Ys_update, rs_ss, Bs, Bs_prev, Gs, hh_ss_all_vals, end_T)\n",
    "#     plot(goods_mkt_error, label=\"iteration $it\")\n",
    "#     err = maximum(abs.(goods_mkt_error[1:end-1])) # solve for asset market clearing at 0, 1, ..., T-2\n",
    "#     push!(errs, err)\n",
    "#     if err < 1E-10\n",
    "#         println(\"Goods market clearing up to 12 digits after $it iterations\")\n",
    "#         break\n",
    "#     end\n",
    "#     Ys_update[1:end-1] -= (Jbar \\ goods_mkt_error[1:end-1]) # adjust r_1, ..., r_(T-1)\n",
    "#     println(\"This is the maximum error $err after iteration $it\")\n",
    "# end\n",
    "# legend();"
   ]
  },
  {
   "cell_type": "markdown",
   "metadata": {},
   "source": [
    "* The Jacobian from het_Js[\"C\"][\"z\"] computes how consumption responds to income shocks, but is not technically correct when updating with the goods market error (does not account for the effect of -$Y$).\n",
    "* Using the DAG representation and IFT, we can get the IRF directly without needing to run Newton's algorithm."
   ]
  },
  {
   "cell_type": "markdown",
   "metadata": {},
   "source": [
    "* Simultaneous shocks to both $B$ and $G$\n",
    "* We know $dH = \\mathcal J^{H,Y}dY - \\mathcal J^{H,C}dC - \\mathcal J^{H,G}dG$\n",
    "* $B$ impacts $H$ through changing $C$ indirectly; $G$ impacts $H$ through $C$ indirectly and $G$ directly\n",
    "* We first solve for the shocks' total effects on $H$\n",
    "* We then invert to solve for how $Y$ should respond"
   ]
  },
  {
   "cell_type": "code",
   "execution_count": 103,
   "metadata": {
    "scrolled": true
   },
   "outputs": [
    {
     "data": {
      "text/plain": [
       "1-element Vector{PyCall.PyObject}:\n",
       " PyObject <matplotlib.lines.Line2D object at 0x11b881060>"
      ]
     },
     "metadata": {},
     "output_type": "display_data"
    }
   ],
   "source": [
    "dZ_dB = zeros(end_T, end_T)\n",
    "for row in 1:end_T\n",
    "    dZ_dB[row, row] = 1\n",
    "    if row > 1\n",
    "        dZ_dB[row, row - 1] = - 1 - hh_ss_all_vals[\"r\"]\n",
    "    end\n",
    "end\n",
    "\n",
    "H_G = het_Js[\"C\"][\"z\"] - Matrix(I, end_T, end_T)\n",
    "H_B = -1 .* het_Js[\"C\"][\"z\"] * dZ_dB\n",
    "H_Y = Matrix(I, end_T, end_T) - het_Js[\"C\"][\"z\"]\n",
    "\n",
    "d_other = -1 .* (H_G * dG + H_B * dB)\n",
    "dY_guess = H_Y \\ d_other\n",
    "plot(dY_guess)"
   ]
  },
  {
   "cell_type": "markdown",
   "metadata": {},
   "source": [
    "## 3. Test forward accumulation"
   ]
  },
  {
   "cell_type": "markdown",
   "metadata": {},
   "source": [
    "In the above examples, we calculated total Jacobians (of some target variable with respect to some shock variable) by hand. Alternatively, given a shock variable (svar) and a target variable (tvar), we could find all the svar - tvar paths: the same path eneters multiplicatively (chain rule), where as different paths are additive. Code-wise, this is implemented recursively using DFS and back-tracking. One neat thing to note is that because we are working with DAGs, there is no need to keep track of visited nodes, since we will never run into a cycle. "
   ]
  },
  {
   "cell_type": "code",
   "execution_count": 104,
   "metadata": {},
   "outputs": [
    {
     "data": {
      "text/plain": [
       "construct (generic function with 1 method)"
      ]
     },
     "metadata": {},
     "output_type": "display_data"
    }
   ],
   "source": [
    "include(\"het.jl\")\n",
    "include(\"graph.jl\")"
   ]
  },
  {
   "cell_type": "code",
   "execution_count": 105,
   "metadata": {},
   "outputs": [
    {
     "data": {
      "text/plain": [
       "Dict{String, Dict{Any, Any}} with 2 entries:\n",
       "  \"A\" => Dict(\"r\"=>[0.651714 0.148966 … -2.28187e-13 -2.28908e-13; 0.547047 0.7…\n",
       "  \"C\" => Dict(\"r\"=>[0.148286 -0.148966 … 2.28179e-13 2.28899e-13; 0.124219 0.18…"
      ]
     },
     "metadata": {},
     "output_type": "display_data"
    }
   ],
   "source": [
    "het_Js_no_compound = ha_jacobian(hh_ss_all_vals, Dict(\"r\" => Dict(\"r\" => 1), \"z\" => Dict(\"z\" => 1)), 1.0, 0.8, 0.8, 0.2, end_T, false) # Multiplied by h which is 1e-4"
   ]
  },
  {
   "cell_type": "markdown",
   "metadata": {},
   "source": [
    "We hard code the Jacobians for now; Bence mentioned that it is easy to perform numerical differentiation for the simple blocks."
   ]
  },
  {
   "cell_type": "code",
   "execution_count": 106,
   "metadata": {},
   "outputs": [
    {
     "data": {
      "text/plain": [
       "UniformScaling{Int64}\n",
       "-1*I"
      ]
     },
     "metadata": {},
     "output_type": "display_data"
    }
   ],
   "source": [
    "all_Jacobians = Dict()\n",
    "all_Jacobians[\"∂Z/∂B\"] = dZ_dB\n",
    "all_Jacobians[\"∂Z/∂r\"] = -1 * hh_ss_all_vals[\"A\"] .* I\n",
    "all_Jacobians[\"∂Z/∂Y\"] = I\n",
    "all_Jacobians[\"∂Z/∂G\"] = -1 .* I\n",
    "all_Jacobians[\"∂A/∂Z\"] = het_Js_no_compound[\"A\"][\"z\"]\n",
    "all_Jacobians[\"∂A/∂r\"] = het_Js_no_compound[\"A\"][\"r\"]\n",
    "all_Jacobians[\"∂C/∂Z\"] = het_Js_no_compound[\"C\"][\"z\"]\n",
    "all_Jacobians[\"∂C/∂r\"] = het_Js_no_compound[\"C\"][\"r\"]\n",
    "all_Jacobians[\"∂Hg/∂Y\"] = I\n",
    "all_Jacobians[\"∂Hg/∂C\"] = -1 .* I\n",
    "all_Jacobians[\"∂Hg/∂G\"] = -1 .* I\n",
    "all_Jacobians[\"∂Ha/∂A\"] = I\n",
    "all_Jacobians[\"∂Ha/∂B\"] = -1 .* I"
   ]
  },
  {
   "cell_type": "markdown",
   "metadata": {},
   "source": [
    "Solving example 2 using the goods market error:"
   ]
  },
  {
   "cell_type": "code",
   "execution_count": 107,
   "metadata": {},
   "outputs": [
    {
     "data": {
      "text/plain": [
       "1-element Vector{PyCall.PyObject}:\n",
       " PyObject <matplotlib.lines.Line2D object at 0x11b881300>"
      ]
     },
     "metadata": {},
     "output_type": "display_data"
    }
   ],
   "source": [
    "Y_paths = fw_acc(c_hank, \"Y\", \"goods\")\n",
    "B_paths = fw_acc(c_hank, \"B\", \"goods\")\n",
    "G_paths = fw_acc(c_hank, \"G\", \"goods\")\n",
    "\n",
    "Hg_Y, Hg_Y_sym = construct(Y_paths, all_Jacobians, end_T)\n",
    "Hg_G, Hg_G_sym = construct(G_paths, all_Jacobians, end_T)\n",
    "Hg_B, Hg_B_sym = construct(B_paths, all_Jacobians, end_T)\n",
    "\n",
    "dY_auto = H_Y \\ (-1 .* Hg_G * dG + -1 .* Hg_B * dB)\n",
    "plot(dY_auto)"
   ]
  },
  {
   "cell_type": "code",
   "execution_count": 108,
   "metadata": {},
   "outputs": [
    {
     "name": "stdout",
     "output_type": "stream",
     "text": [
      "Note that construct also returns the symbolic representation of the total Jacobian computed. For instance, The total Jacobian of how the goods market changes with respect to Y is ∂Hg/∂C * ∂C/∂Z * ∂Z/∂Y + ∂Hg/∂Y\n"
     ]
    }
   ],
   "source": [
    "println(\"Note that construct also returns the symbolic representation of the total Jacobian computed. For instance, The total Jacobian of how the goods market changes with respect to Y is $Hg_Y_sym\")"
   ]
  },
  {
   "cell_type": "markdown",
   "metadata": {},
   "source": [
    "Great, this is the same impulse response as we obtained before when we let $Y$ adjust and hold $r$ fixed. Note we could have also used the asset market error instead. This is done below.\n",
    "\n",
    "Solving example 2 using the asset market error:"
   ]
  },
  {
   "cell_type": "code",
   "execution_count": 109,
   "metadata": {
    "scrolled": true
   },
   "outputs": [
    {
     "data": {
      "text/plain": [
       "1-element Vector{PyCall.PyObject}:\n",
       " PyObject <matplotlib.lines.Line2D object at 0x11b8815a0>"
      ]
     },
     "metadata": {},
     "output_type": "display_data"
    }
   ],
   "source": [
    "Y_paths = fw_acc(c_hank, \"Y\", \"asset\")\n",
    "B_paths = fw_acc(c_hank, \"B\", \"asset\")\n",
    "G_paths = fw_acc(c_hank, \"G\", \"asset\")\n",
    "\n",
    "Ha_Y, _ = construct(Y_paths, all_Jacobians, end_T)\n",
    "Ha_G, _ = construct(G_paths, all_Jacobians, end_T)\n",
    "Ha_B, _ = construct(B_paths, all_Jacobians, end_T)\n",
    "\n",
    "dY_auto_alt = Ha_Y \\ (-1 .* Ha_G * dG + -1 .* Ha_B * dB)\n",
    "plot(dY_auto_alt)"
   ]
  },
  {
   "cell_type": "markdown",
   "metadata": {},
   "source": [
    "Now, we will let $r$ adjust and hold $Y$ fixed to test the other Jacobians."
   ]
  },
  {
   "cell_type": "markdown",
   "metadata": {},
   "source": [
    "Solving example 1 using the asset market error:"
   ]
  },
  {
   "cell_type": "code",
   "execution_count": 110,
   "metadata": {},
   "outputs": [
    {
     "data": {
      "text/plain": [
       "1-element Vector{PyCall.PyObject}:\n",
       " PyObject <matplotlib.lines.Line2D object at 0x11b881840>"
      ]
     },
     "metadata": {},
     "output_type": "display_data"
    }
   ],
   "source": [
    "Ha_r, _ = construct(fw_acc(c_hank,\"r\",\"asset\"), all_Jacobians, end_T)\n",
    "Ha_G, _ = construct(fw_acc(c_hank,\"G\",\"asset\"), all_Jacobians, end_T)\n",
    "Ha_B, _ = construct(fw_acc(c_hank,\"B\",\"asset\"), all_Jacobians, end_T)\n",
    "            \n",
    "r_auto = Ha_r[1:end-1, 2:end] \\ ((-1. * Ha_B * dB - Ha_G * dG)[1:end-1])\n",
    "plot(r_auto)"
   ]
  },
  {
   "cell_type": "markdown",
   "metadata": {},
   "source": [
    "Finally, let us use the goods market error instead of the asset market error for this case."
   ]
  },
  {
   "cell_type": "markdown",
   "metadata": {},
   "source": [
    "Solving example 1 using the goods market error:"
   ]
  },
  {
   "cell_type": "code",
   "execution_count": 111,
   "metadata": {},
   "outputs": [
    {
     "data": {
      "text/plain": [
       "1-element Vector{PyCall.PyObject}:\n",
       " PyObject <matplotlib.lines.Line2D object at 0x11b881ae0>"
      ]
     },
     "metadata": {},
     "output_type": "display_data"
    }
   ],
   "source": [
    "Hg_r, _ = construct(fw_acc(c_hank,\"r\",\"goods\"), all_Jacobians, end_T)\n",
    "Hg_G, _ = construct(fw_acc(c_hank,\"G\",\"goods\"), all_Jacobians, end_T)\n",
    "Hg_B, _ = construct(fw_acc(c_hank,\"B\",\"goods\"), all_Jacobians, end_T)\n",
    "            \n",
    "r_auto = Ha_r[1:end-1, 2:end] \\ ((-1. * Ha_B * dB - Ha_G * dG)[1:end-1])\n",
    "plot(r_auto)"
   ]
  }
 ],
 "metadata": {
  "kernelspec": {
   "display_name": "Julia 1.7.3",
   "language": "julia",
   "name": "julia-1.7"
  },
  "language_info": {
   "file_extension": ".jl",
   "mimetype": "application/julia",
   "name": "julia",
   "version": "1.7.3"
  }
 },
 "nbformat": 4,
 "nbformat_minor": 2
}
